{
 "cells": [
  {
   "cell_type": "markdown",
   "metadata": {},
   "source": [
    "# 📥 Download COCO Dataset for ControlNet Testing\n",
    "\n",
    "This notebook downloads the COCO validation dataset and prepares it for ControlNet training.\n",
    "\n",
    "**What we'll download:**\n",
    "- COCO val2017 images (~1GB, 5000 images)\n",
    "- We'll use a subset (500 images) for RTX 3050Ti testing"
   ]
  },
  {
   "cell_type": "code",
   "metadata": {
    "ExecuteTime": {
     "end_time": "2025-08-04T17:46:57.919410Z",
     "start_time": "2025-08-04T17:46:56.893222Z"
    }
   },
   "source": [
    "import os\n",
    "import requests\n",
    "import zipfile\n",
    "from pathlib import Path\n",
    "from tqdm.notebook import tqdm\n",
    "import shutil\n",
    "\n",
    "def download_file(url, output_path, chunk_size=8192):\n",
    "    \"\"\"Download a file with progress bar.\"\"\"\n",
    "    response = requests.get(url, stream=True)\n",
    "    response.raise_for_status()\n",
    "    \n",
    "    total_size = int(response.headers.get('content-length', 0))\n",
    "    \n",
    "    with open(output_path, 'wb') as f, tqdm(\n",
    "        desc=output_path.name,\n",
    "        total=total_size,\n",
    "        unit='B',\n",
    "        unit_scale=True,\n",
    "        unit_divisor=1024,\n",
    "    ) as pbar:\n",
    "        for chunk in response.iter_content(chunk_size=chunk_size):\n",
    "            if chunk:\n",
    "                f.write(chunk)\n",
    "                pbar.update(len(chunk))\n",
    "\n",
    "print(\"📁 Setting up COCO dataset download...\")"
   ],
   "outputs": [
    {
     "name": "stdout",
     "output_type": "stream",
     "text": [
      "📁 Setting up COCO dataset download...\n"
     ]
    }
   ],
   "execution_count": 1
  },
  {
   "cell_type": "code",
   "metadata": {
    "ExecuteTime": {
     "end_time": "2025-08-04T17:47:17.654553Z",
     "start_time": "2025-08-04T17:47:17.641944Z"
    }
   },
   "source": [
    "# Create dataset directory\n",
    "dataset_dir = Path(\"./datasets/coco_controlnet\")\n",
    "dataset_dir.mkdir(parents=True, exist_ok=True)\n",
    "\n",
    "print(f\"📁 Dataset directory: {dataset_dir.absolute()}\")\n",
    "print(f\"💾 Available disk space: {shutil.disk_usage('.').free / (1024**3):.1f} GB\")\n",
    "\n",
    "# Check if we need ~2GB free space\n",
    "if shutil.disk_usage('.').free < 3 * (1024**3):  # 3GB minimum\n",
    "    print(\"⚠️  Warning: Low disk space. Ensure you have at least 3GB free.\")\nelse:\n",
    "    print(\"✅ Sufficient disk space available\")"
   ],
   "outputs": [
    {
     "name": "stdout",
     "output_type": "stream",
     "text": [
      "📁 Dataset directory: C:\\Users\\tobio\\PycharmProjects\\ControlNet-Implementation\\notebooks\\datasets\\coco_controlnet\n",
      "💾 Available disk space: 24.8 GB\n",
      "✅ Sufficient disk space available\n"
     ]
    }
   ],
   "execution_count": 2
  },
  {
   "cell_type": "code",
   "metadata": {
    "ExecuteTime": {
     "end_time": "2025-08-04T17:47:21.798311Z",
     "start_time": "2025-08-04T17:47:21.447501Z"
    }
   },
   "source": [
    "# Download COCO val2017 images\n",
    "coco_url = \"http://images.cocodataset.org/zips/val2017.zip\"\n",
    "coco_zip = dataset_dir / \"val2017.zip\"\n",
    "\n",
    "if not coco_zip.exists():\n",
    "    print(\"📥 Downloading COCO val2017 images (~1GB)...\")\n",
    "    print(\"This may take 10-20 minutes depending on your internet speed.\")\n",
    "    \n",
    "    try:\n",
    "        download_file(coco_url, coco_zip)\n",
    "        print(f\"✅ Downloaded: {coco_zip}\")\n",
    "        print(f\"📊 File size: {coco_zip.stat().st_size / (1024**2):.1f} MB\")\n",
    "    except Exception as e:\n",
    "        print(f\"❌ Download failed: {e}\")\n",
    "        print(\"\\n🔧 Alternative solutions:\")\n",
    "        print(\"1. Check your internet connection\")\n",
    "        print(\"2. Try downloading manually from: http://images.cocodataset.org/zips/val2017.zip\")\n",
    "        print(\"3. Use a different dataset (see next cell)\")\nelse:\n",
    "    print(f\"✅ COCO dataset already downloaded: {coco_zip}\")\n",
    "    print(f\"📊 File size: {coco_zip.stat().st_size / (1024**2):.1f} MB\")"
   ],
   "outputs": [
    {
     "name": "stdout",
     "output_type": "stream",
     "text": [
      "📥 Downloading COCO val2017 images (~1GB)...\n",
      "This may take 10-20 minutes depending on your internet speed.\n"
     ]
    },
    {
     "name": "stderr",
     "output_type": "stream",
     "text": [
      "Exception ignored in: <function tqdm.__del__ at 0x00000216FD6D3240>\n",
      "Traceback (most recent call last):\n",
      "  File \"C:\\Users\\tobio\\PycharmProjects\\ControlNet-Implementation\\.venv\\Lib\\site-packages\\tqdm\\std.py\", line 1148, in __del__\n",
      "    self.close()\n",
      "  File \"C:\\Users\\tobio\\PycharmProjects\\ControlNet-Implementation\\.venv\\Lib\\site-packages\\tqdm\\notebook.py\", line 279, in close\n",
      "    self.disp(bar_style='danger', check_delay=False)\n",
      "AttributeError: 'tqdm_notebook' object has no attribute 'disp'\n"
     ]
    },
    {
     "name": "stdout",
     "output_type": "stream",
     "text": [
      "❌ Download failed: IProgress not found. Please update jupyter and ipywidgets. See https://ipywidgets.readthedocs.io/en/stable/user_install.html\n",
      "\n",
      "🔧 Alternative solutions:\n",
      "1. Check your internet connection\n",
      "2. Try downloading manually from: http://images.cocodataset.org/zips/val2017.zip\n",
      "3. Use a different dataset (see next cell)\n"
     ]
    }
   ],
   "execution_count": 3
  },
  {
   "cell_type": "code",
   "execution_count": null,
   "metadata": {},
   "outputs": [],
   "source": [
    "# Extract COCO images\n",
    "val2017_dir = dataset_dir / \"val2017\"\n",
    "\n",
    "if not val2017_dir.exists() and coco_zip.exists():\n",
    "    print(\"📦 Extracting COCO images...\")\n",
    "    print(\"This may take 5-10 minutes...\")\n",
    "    \n",
    "    try:\n",
    "        with zipfile.ZipFile(coco_zip, 'r') as zip_ref:\n",
    "            zip_ref.extractall(dataset_dir)\n",
    "        \n",
    "        print(f\"✅ Extracted to: {val2017_dir}\")\n",
    "        \n",
    "        # Count extracted images\n",
    "        image_count = len(list(val2017_dir.glob(\"*.jpg\")))\n",
    "        print(f\"📸 Found {image_count} images\")\n",
    "        \n",
    "        # Clean up zip file to save space\n",
    "        if input(\"🗑️  Delete zip file to save space? (y/n): \").lower() == 'y':\n",
    "            coco_zip.unlink()\n",
    "            print(\"✅ Zip file deleted\")\n",
    "            \n",
    "    except Exception as e:\n",
    "        print(f\"❌ Extraction failed: {e}\")\n",
    "        \nelif val2017_dir.exists():\n",
    "    image_count = len(list(val2017_dir.glob(\"*.jpg\")))\n",
    "    print(f\"✅ COCO images already extracted: {image_count} images\")\n",
    "    print(f\"📁 Location: {val2017_dir}\")\nelse:\n",
    "    print(\"❌ Cannot extract - zip file not found\")"
   ]
  },
  {
   "cell_type": "code",
   "execution_count": null,
   "metadata": {},
   "outputs": [],
   "source": [
    "# Verify dataset is ready\n",
    "val2017_dir = dataset_dir / \"val2017\"\n",
    "\n",
    "if val2017_dir.exists():\n",
    "    image_files = list(val2017_dir.glob(\"*.jpg\"))\n",
    "    \n",
    "    print(\"🎉 COCO Dataset Ready!\")\n",
    "    print(\"=\" * 40)\n",
    "    print(f\"📁 Location: {val2017_dir}\")\n",
    "    print(f\"📸 Total images: {len(image_files)}\")\n",
    "    print(f\"💾 Dataset size: {sum(f.stat().st_size for f in image_files[:100]) / (1024**2) * len(image_files) / 100:.0f} MB\")\n",
    "    \n",
    "    # Show sample image names\n",
    "    print(f\"\\n📋 Sample images:\")\n",
    "    for img in image_files[:5]:\n",
    "        print(f\"  - {img.name}\")\n",
    "    \n",
    "    print(f\"\\n✅ Ready for ControlNet training!\")\n",
    "    print(f\"\\n🚀 Next step: Run the main training notebook\")\n",
    "    print(f\"   notebooks/rtx3050ti_coco_training_test.ipynb\")\n",
    "    \nelse:\n",
    "    print(\"❌ Dataset setup failed\")\n",
    "    print(\"\\n🔧 Manual setup instructions:\")\n",
    "    print(\"1. Download: http://images.cocodataset.org/zips/val2017.zip\")\n",
    "    print(f\"2. Extract to: {dataset_dir}\")\n",
    "    print(\"3. Ensure val2017/ folder contains .jpg files\")"
   ]
  },
  {
   "cell_type": "code",
   "execution_count": null,
   "metadata": {},
   "outputs": [],
   "source": [
    "# Optional: Show sample images\n",
    "import matplotlib.pyplot as plt\n",
    "from PIL import Image\n",
    "import random\n",
    "\n",
    "if val2017_dir.exists():\n",
    "    image_files = list(val2017_dir.glob(\"*.jpg\"))\n",
    "    \n",
    "    if len(image_files) >= 4:\n",
    "        print(\"🖼️  Sample COCO images:\")\n",
    "        \n",
    "        # Show 4 random sample images\n",
    "        fig, axes = plt.subplots(2, 2, figsize=(10, 10))\n",
    "        axes = axes.flatten()\n",
    "        \n",
    "        sample_images = random.sample(image_files, 4)\n",
    "        \n",
    "        for i, img_path in enumerate(sample_images):\n",
    "            try:\n",
    "                img = Image.open(img_path)\n",
    "                axes[i].imshow(img)\n",
    "                axes[i].set_title(f\"{img_path.name}\\n{img.size[0]}x{img.size[1]}\")\n",
    "                axes[i].axis('off')\n",
    "            except Exception as e:\n",
    "                axes[i].text(0.5, 0.5, f\"Error loading\\n{img_path.name}\", \n",
    "                           ha='center', va='center', transform=axes[i].transAxes)\n",
    "                axes[i].axis('off')\n",
    "        \n",
    "        plt.tight_layout()\n",
    "        plt.show()\n",
    "        \n",
    "        print(\"✅ Sample images loaded successfully\")\n",
    "        print(\"These will be converted to Canny edges for ControlNet training\")\n",
    "    else:\n",
    "        print(\"⚠️  Not enough images found for preview\")"
   ]
  }
 ],
 "metadata": {
  "kernelspec": {
   "display_name": "Python 3",
   "language": "python",
   "name": "python3"
  },
  "language_info": {
   "codemirror_mode": {
    "name": "ipython",
    "version": 3
   },
   "file_extension": ".py",
   "mimetype": "text/x-python",
   "name": "python",
   "nbconvert_exporter": "python",
   "pygments_lexer": "ipython3",
   "version": "3.8.10"
  }
 },
 "nbformat": 4,
 "nbformat_minor": 4
}
